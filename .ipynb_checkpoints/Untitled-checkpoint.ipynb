{
 "cells": [
  {
   "cell_type": "code",
   "execution_count": 5,
   "metadata": {
    "ExecuteTime": {
     "end_time": "2020-02-18T06:41:42.037406Z",
     "start_time": "2020-02-18T06:41:42.029427Z"
    }
   },
   "outputs": [
    {
     "data": {
      "text/plain": [
       "array([[9, 7, 3, 4, 9, 5],\n",
       "       [1, 3, 4, 7, 8, 9],\n",
       "       [9, 2, 7, 3, 8, 9],\n",
       "       [7, 6, 2, 6, 7, 7],\n",
       "       [8, 9, 5, 9, 7, 0]])"
      ]
     },
     "execution_count": 5,
     "metadata": {},
     "output_type": "execute_result"
    }
   ],
   "source": [
    "arr1 = np.random.randint(0, 10, 30).reshape(5, 6)\n",
    "arr1"
   ]
  },
  {
   "cell_type": "code",
   "execution_count": 6,
   "metadata": {
    "ExecuteTime": {
     "end_time": "2020-02-18T06:41:58.774828Z",
     "start_time": "2020-02-18T06:41:58.767832Z"
    }
   },
   "outputs": [
    {
     "data": {
      "text/plain": [
       "array([[261, 187, 245, 233, 249],\n",
       "       [187, 220, 209, 194, 174],\n",
       "       [245, 209, 288, 226, 208],\n",
       "       [233, 194, 226, 223, 223],\n",
       "       [249, 174, 208, 223, 300]])"
      ]
     },
     "execution_count": 6,
     "metadata": {},
     "output_type": "execute_result"
    }
   ],
   "source": [
    "arr1.dot(arr1.T)"
   ]
  },
  {
   "cell_type": "code",
   "execution_count": 8,
   "metadata": {
    "ExecuteTime": {
     "end_time": "2020-02-18T06:42:38.707727Z",
     "start_time": "2020-02-18T06:42:38.701744Z"
    }
   },
   "outputs": [
    {
     "data": {
      "text/plain": [
       "array([[81, 49,  9, 16, 81, 25],\n",
       "       [ 1,  9, 16, 49, 64, 81],\n",
       "       [81,  4, 49,  9, 64, 81],\n",
       "       [49, 36,  4, 36, 49, 49],\n",
       "       [64, 81, 25, 81, 49,  0]])"
      ]
     },
     "execution_count": 8,
     "metadata": {},
     "output_type": "execute_result"
    }
   ],
   "source": [
    "arr1 * arr1"
   ]
  },
  {
   "cell_type": "code",
   "execution_count": 13,
   "metadata": {
    "ExecuteTime": {
     "end_time": "2020-02-18T07:13:34.650749Z",
     "start_time": "2020-02-18T07:13:34.631507Z"
    }
   },
   "outputs": [
    {
     "data": {
      "text/plain": [
       "array([[-0.47042018, -0.15502455,  0.31551249, -0.49151571,  0.64306797],\n",
       "       [-0.38966416,  0.48086602, -0.73382747,  0.09492474,  0.26346964],\n",
       "       [-0.4697176 ,  0.45804464,  0.56219034,  0.48387015, -0.13918399],\n",
       "       [-0.43854709,  0.01949166, -0.07824854, -0.55520905, -0.7020802 ],\n",
       "       [-0.46250246, -0.73112956, -0.19941992,  0.45498812, -0.06898219]])"
      ]
     },
     "execution_count": 13,
     "metadata": {},
     "output_type": "execute_result"
    },
    {
     "data": {
      "text/plain": [
       "array([33.5045435 , 10.10452473,  6.88865297,  4.0490121 ,  1.86978776])"
      ]
     },
     "execution_count": 13,
     "metadata": {},
     "output_type": "execute_result"
    },
    {
     "data": {
      "text/plain": [
       "array([[33.5045435 ,  0.        ,  0.        ,  0.        ,  0.        ],\n",
       "       [ 0.        , 10.10452473,  0.        ,  0.        ,  0.        ],\n",
       "       [ 0.        ,  0.        ,  6.88865297,  0.        ,  0.        ],\n",
       "       [ 0.        ,  0.        ,  0.        ,  4.0490121 ,  0.        ],\n",
       "       [ 0.        ,  0.        ,  0.        ,  0.        ,  1.86978776]])"
      ]
     },
     "execution_count": 13,
     "metadata": {},
     "output_type": "execute_result"
    },
    {
     "data": {
      "text/plain": [
       "array([[-0.46622792, -0.36398567, -0.28197808, -0.38240447, -0.51981554,\n",
       "        -0.3926741 ],\n",
       "       [-0.24786401, -0.51360165,  0.10371972, -0.23188802,  0.11228624,\n",
       "         0.77307099],\n",
       "       [ 0.72908286, -0.16444214,  0.11511151, -0.64634434, -0.0692681 ,\n",
       "        -0.07474778],\n",
       "       [-0.05444382, -0.35180351,  0.85373056,  0.22565   , -0.12220975,\n",
       "        -0.2802876 ],\n",
       "       [-0.3572563 ,  0.09637235,  0.13890516, -0.4462076 ,  0.7404371 ,\n",
       "        -0.31054363],\n",
       "       [-0.24297523,  0.66605797,  0.38513556, -0.36361328, -0.38626831,\n",
       "         0.2599665 ]])"
      ]
     },
     "execution_count": 13,
     "metadata": {},
     "output_type": "execute_result"
    }
   ],
   "source": [
    "u, s, vh = np.linalg.svd(arr1)\n",
    "u\n",
    "s\n",
    "np.diag(s)\n",
    "vh"
   ]
  },
  {
   "cell_type": "code",
   "execution_count": null,
   "metadata": {},
   "outputs": [],
   "source": []
  }
 ],
 "metadata": {
  "hide_input": false,
  "kernelspec": {
   "display_name": "Python 3",
   "language": "python",
   "name": "python3"
  },
  "language_info": {
   "codemirror_mode": {
    "name": "ipython",
    "version": 3
   },
   "file_extension": ".py",
   "mimetype": "text/x-python",
   "name": "python",
   "nbconvert_exporter": "python",
   "pygments_lexer": "ipython3",
   "version": "3.7.4"
  },
  "nbTranslate": {
   "displayLangs": [
    "*"
   ],
   "hotkey": "alt-t",
   "langInMainMenu": true,
   "sourceLang": "en",
   "targetLang": "fr",
   "useGoogleTranslate": true
  },
  "toc": {
   "base_numbering": 1,
   "nav_menu": {},
   "number_sections": true,
   "sideBar": true,
   "skip_h1_title": false,
   "title_cell": "Table of Contents",
   "title_sidebar": "Contents",
   "toc_cell": false,
   "toc_position": {},
   "toc_section_display": true,
   "toc_window_display": false
  },
  "varInspector": {
   "cols": {
    "lenName": 16,
    "lenType": 16,
    "lenVar": 40
   },
   "kernels_config": {
    "python": {
     "delete_cmd_postfix": "",
     "delete_cmd_prefix": "del ",
     "library": "var_list.py",
     "varRefreshCmd": "print(var_dic_list())"
    },
    "r": {
     "delete_cmd_postfix": ") ",
     "delete_cmd_prefix": "rm(",
     "library": "var_list.r",
     "varRefreshCmd": "cat(var_dic_list()) "
    }
   },
   "types_to_exclude": [
    "module",
    "function",
    "builtin_function_or_method",
    "instance",
    "_Feature"
   ],
   "window_display": false
  }
 },
 "nbformat": 4,
 "nbformat_minor": 2
}
